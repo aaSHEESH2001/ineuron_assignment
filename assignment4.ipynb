{
 "cells": [
  {
   "attachments": {},
   "cell_type": "markdown",
   "metadata": {},
   "source": [
    "Ans 1 -\n",
    "\n",
    "        [] called square brackets are used to create an empty list."
   ]
  },
  {
   "cell_type": "code",
   "execution_count": 1,
   "metadata": {},
   "outputs": [
    {
     "name": "stdout",
     "output_type": "stream",
     "text": [
      "<class 'list'>\n"
     ]
    }
   ],
   "source": [
    "#Example\n",
    "l1 = []\n",
    "print(type(l1))"
   ]
  },
  {
   "attachments": {},
   "cell_type": "markdown",
   "metadata": {},
   "source": [
    "Ans 2 -\n",
    "\n",
    "        As we know list indexing starts from 0. So to assign the value at 3 position we have to give index as 2."
   ]
  },
  {
   "cell_type": "code",
   "execution_count": 2,
   "metadata": {},
   "outputs": [
    {
     "name": "stdout",
     "output_type": "stream",
     "text": [
      "[2, 4, 'hello', 8, 10]\n"
     ]
    }
   ],
   "source": [
    "l1 = [2,4,6,8,10]\n",
    "l1[2] = \"hello\"\n",
    "print(l1)"
   ]
  },
  {
   "attachments": {},
   "cell_type": "markdown",
   "metadata": {},
   "source": [
    "Ans 3 -\n",
    "\n",
    "        spam = ['a','b','c','d']\n",
    "        The value of spam[int(int('3'*2)/11)] will be d. As we know '3' is a character or string data type. So when * operator is used with string it repeat the string to second operand no. of times which will evaluate to '33'. As we are converting this string to integer value by using int() function so the value becomes 33 and the whole expression evaluate to 3. The element at index 3 is d."
   ]
  },
  {
   "cell_type": "code",
   "execution_count": 3,
   "metadata": {},
   "outputs": [
    {
     "name": "stdout",
     "output_type": "stream",
     "text": [
      "d\n"
     ]
    }
   ],
   "source": [
    "#Code\n",
    "spam = ['a','b','c','d']\n",
    "print(spam[int(int('3'*2)/11)])"
   ]
  },
  {
   "attachments": {},
   "cell_type": "markdown",
   "metadata": {},
   "source": [
    "Ans 4 -\n",
    "\n",
    "        The value of spam[-1] is also d, this is because of negative indexing is valid in Python."
   ]
  },
  {
   "cell_type": "code",
   "execution_count": 4,
   "metadata": {},
   "outputs": [
    {
     "name": "stdout",
     "output_type": "stream",
     "text": [
      "d\n"
     ]
    }
   ],
   "source": [
    "#Code\n",
    "print(spam[-1])"
   ]
  },
  {
   "attachments": {},
   "cell_type": "markdown",
   "metadata": {},
   "source": [
    "Ans 5 -\n",
    "\n",
    "        spam[:2] will print ['a','b']. This is called list slicing. We haven't mentioned the start position so the slicing will start from 0 and ends at index 1 because last position is excluded in list slicing."
   ]
  },
  {
   "cell_type": "code",
   "execution_count": 5,
   "metadata": {},
   "outputs": [
    {
     "name": "stdout",
     "output_type": "stream",
     "text": [
      "['a', 'b']\n"
     ]
    }
   ],
   "source": [
    "#Code\n",
    "print(spam[:2])"
   ]
  },
  {
   "cell_type": "markdown",
   "metadata": {},
   "source": [
    "Ans6 -\n",
    "\n",
    "    The value of bacon.index('cat') will be 1"
   ]
  },
  {
   "cell_type": "markdown",
   "metadata": {},
   "source": [
    "Ans 7 -\n",
    "\n",
    "    bacon.append(99) will add the value 99 to the end of the list and the list looks like this [3.14,\"cat\",11,\"cat\",True,99]"
   ]
  },
  {
   "cell_type": "markdown",
   "metadata": {},
   "source": [
    "Ans 8 -\n",
    "\n",
    "        bacon.remove(\"cat\") will remove the first appearance of the \"cat\" and the list will look like this [3.14,11,\"cat\",True,99]"
   ]
  },
  {
   "cell_type": "markdown",
   "metadata": {},
   "source": [
    "Ans 9 -\n",
    "\n",
    "        (+) when appliend to list is called list concatenation operator. It join the two list.\n",
    "\n",
    "        (*) when applied to list is called list replication operator. It replicates the list no. of times provided after the operator"
   ]
  },
  {
   "cell_type": "code",
   "execution_count": 7,
   "metadata": {},
   "outputs": [
    {
     "name": "stdout",
     "output_type": "stream",
     "text": [
      "Concatenated list(+) :  [1, 2, 3, 4, 5, 6]\n",
      "Replicated list(*) :  [1, 2, 3, 1, 2, 3, 1, 2, 3]\n"
     ]
    }
   ],
   "source": [
    "#Example of list concatenation\n",
    "list1 = [1,2,3]\n",
    "list2 = [4,5,6]\n",
    "\n",
    "list3 = list1 + list2\n",
    "list4 = list1*3\n",
    "\n",
    "print(\"Concatenated list(+) : \",list3)\n",
    "print(\"Replicated list(*) : \",list4)"
   ]
  },
  {
   "cell_type": "markdown",
   "metadata": {},
   "source": [
    "Ans 10 -\n",
    "\n",
    "        list method append() add the elements at the end of the list while list method insert provide us the functionality to insert element at any index in the list."
   ]
  },
  {
   "cell_type": "markdown",
   "metadata": {},
   "source": [
    "Ans 11 - \n",
    "\n",
    "        Two methods to remove an items from a list are pop() and remove() methods."
   ]
  },
  {
   "cell_type": "markdown",
   "metadata": {},
   "source": [
    "Ans 12 - \n",
    "\n",
    "        List values and string values are identical in the sense that they have indexing and the indexing starts from 0. You can iterate over both list values and string values. You can perform slicing over both the data types."
   ]
  },
  {
   "cell_type": "markdown",
   "metadata": {},
   "source": [
    "Ans 13 - \n",
    "\n",
    "        The main difference between tuples and list is that list are mutable whereas tuples are immutable. Lists are created using square brackets [] whereas Tuples are created using parenthesis ()."
   ]
  },
  {
   "cell_type": "markdown",
   "metadata": {},
   "source": [
    "Ans 14 -\n",
    "\n",
    "        t1 = (42,)\n",
    "        The comma after the element 42 is very important to create a tuple. If we dont put the comma the python will interpret it as an integer inside parenthesis."
   ]
  },
  {
   "cell_type": "markdown",
   "metadata": {},
   "source": [
    "Ans 15 -\n",
    "\n",
    "        To convert a tuple into a list we can use the list function which take tuple as an arguement and return the list with the same items as tuple. And to convert the list into a tuple we can use tuple function which take list as an arguement and return the tuple with the same items as list."
   ]
  },
  {
   "cell_type": "markdown",
   "metadata": {},
   "source": [
    "Ans 16 -\n",
    "\n",
    "        In Python, variables are used to store references (memory addresses) to objects rather than the objects themselves. When you assign a list to a variable, the variable holds the memory address where the list is stored in the computer's memory."
   ]
  },
  {
   "cell_type": "markdown",
   "metadata": {},
   "source": [
    "Ans 17 - \n",
    "\n",
    "        copy.copy() :- creates a shallow copy of the original object. It copies the top-level elements of the object but does not copy the nested objects. Instead, it creates references to the nested objects. Any changes to the nested objects of the copied object will also got reflected to the original object.\n",
    "\n",
    "        copy.deepcopy() :- creates a deep copy of the original object. It copies all nested objects within the original object. This means that all nested objects are duplicated, and there are no shared references between the original and the copied object.\n",
    "\n",
    "        "
   ]
  },
  {
   "cell_type": "code",
   "execution_count": 11,
   "metadata": {},
   "outputs": [
    {
     "name": "stdout",
     "output_type": "stream",
     "text": [
      "[1, 2, [3, 4], 5]\n",
      "[1, 2, [3, 4], 5]\n"
     ]
    }
   ],
   "source": [
    "import copy\n",
    "\n",
    "l1 = [1,2,[3,4],5]\n",
    "\n",
    "l2 = copy.copy(l1)\n",
    "\n",
    "print(l1)\n",
    "print(l2)"
   ]
  },
  {
   "cell_type": "code",
   "execution_count": 12,
   "metadata": {},
   "outputs": [
    {
     "name": "stdout",
     "output_type": "stream",
     "text": [
      "[1, 2, [30, 4], 5]\n",
      "[1, 2, [30, 4], 5]\n"
     ]
    }
   ],
   "source": [
    "l2[2][0] = 30\n",
    "print(l1)\n",
    "print(l2)"
   ]
  },
  {
   "cell_type": "code",
   "execution_count": 13,
   "metadata": {},
   "outputs": [
    {
     "name": "stdout",
     "output_type": "stream",
     "text": [
      "[1, 2, [30, 4], 5]\n",
      "[1, 2, [30, 4], 5]\n"
     ]
    }
   ],
   "source": [
    "l3 = copy.deepcopy(l1)\n",
    "print(l3)\n",
    "print(l1)"
   ]
  },
  {
   "cell_type": "code",
   "execution_count": 15,
   "metadata": {},
   "outputs": [
    {
     "name": "stdout",
     "output_type": "stream",
     "text": [
      "[1, 2, [30, 4], 5]\n",
      "[1, 2, [60, 4], 5]\n"
     ]
    }
   ],
   "source": [
    "l3[2][0] = 60\n",
    "print(l1)\n",
    "print(l3)"
   ]
  }
 ],
 "metadata": {
  "kernelspec": {
   "display_name": "Python 3",
   "language": "python",
   "name": "python3"
  },
  "language_info": {
   "codemirror_mode": {
    "name": "ipython",
    "version": 3
   },
   "file_extension": ".py",
   "mimetype": "text/x-python",
   "name": "python",
   "nbconvert_exporter": "python",
   "pygments_lexer": "ipython3",
   "version": "3.11.1"
  },
  "orig_nbformat": 4
 },
 "nbformat": 4,
 "nbformat_minor": 2
}
