{
 "cells": [
  {
   "attachments": {},
   "cell_type": "markdown",
   "metadata": {},
   "source": [
    "Ans 1 - \n",
    "\n",
    "        The two value of Boolean data type are True and False.\n",
    "\n",
    "        As Python is a case-sensitive language so True and False should be written like this else the meaning of them will change and they will be just a simple identifier."
   ]
  },
  {
   "attachments": {},
   "cell_type": "markdown",
   "metadata": {},
   "source": [
    "Ans 2 -\n",
    "\n",
    "         AND operator(written as and) -> The AND operator returns true if both operands are true; otherwise, it returns false. It evaluates to true only if both conditions on either side of the operator are true. If any one of the conditions is false, the result is false.\n",
    "\n",
    "         OR operator(written as or) -> The OR operator returns true if at least one of the operands is true; otherwise, it returns false. It evaluates to true if either of the conditions on either side of the operator is true. If both conditions are false, the result is false.\n",
    "\n",
    "         NOT operator(written as not) -> The NOT operator negates the Boolean value of an expression. It returns the opposite Boolean value of the operand. If the operand is true, the NOT operator returns false, and if the operand is false, it returns true."
   ]
  },
  {
   "attachments": {},
   "cell_type": "markdown",
   "metadata": {},
   "source": [
    "Ans 3 - \n",
    "\n",
    "        AND operator (and):\n",
    "            Operand 1\t    Operand 2\t    Result\n",
    "            True\t            True\t      True\n",
    "            True\t            False\t      False\n",
    "            False\t            True\t      False\n",
    "            False\t            False\t      False\n",
    "\n",
    "        OR operator (or):\n",
    "            Operand 1\t    Operand 2\t    Result\n",
    "            True\t            True\t      True\n",
    "            True\t            False\t      True\n",
    "            False\t            True\t      True\n",
    "            False\t            False\t      False\n",
    "\n",
    "        NOT operator (not):\n",
    "            Operand\t    Result\n",
    "            True\t    False\n",
    "            False\t    True\n",
    "\n"
   ]
  },
  {
   "attachments": {},
   "cell_type": "markdown",
   "metadata": {},
   "source": [
    "Ans 4 -\n",
    "\n",
    "        1 -> False\n",
    "        2 -> False\n",
    "        3 -> True\n",
    "        4 -> False\n",
    "        5 -> False\n",
    "        6 -> True"
   ]
  },
  {
   "attachments": {},
   "cell_type": "markdown",
   "metadata": {},
   "source": [
    "Ans 5 -\n",
    "\n",
    "        Six Comparison Operators are :- \n",
    "        1.  >   (greater than)\n",
    "        2.  <   (less than)\n",
    "        3.  >=  (greater than or equal to)\n",
    "        4.  <=  (less than or equal to)\n",
    "        5.  ==  (equal to)\n",
    "        6.  !=  (not equal to)"
   ]
  },
  {
   "attachments": {},
   "cell_type": "markdown",
   "metadata": {},
   "source": [
    "Ans 6 -\n",
    "\n",
    "        Equal to operator have two equal(==) signs in it. It is used to check the value of operands on both side of it. If the value of both operands are equal it will return True else it will return False. \n",
    "\n",
    "        Assingment operator only have one equal sign(=). It is used to assing value of a data type to a variable.\n",
    "\n",
    "        Example :- \n",
    "                    If we want to check whether 2 is equal to 5 or not we use equal to(==) operator \n",
    "                    If we want to assign 10 to x we use assignment operator(=)"
   ]
  },
  {
   "cell_type": "code",
   "execution_count": null,
   "metadata": {},
   "outputs": [
    {
     "name": "stdout",
     "output_type": "stream",
     "text": [
      "False\n",
      "True\n"
     ]
    }
   ],
   "source": [
    "#Equal to operator\n",
    "print(5==7)\n",
    "print(5==5)"
   ]
  },
  {
   "cell_type": "code",
   "execution_count": null,
   "metadata": {},
   "outputs": [
    {
     "name": "stdout",
     "output_type": "stream",
     "text": [
      "10   20\n"
     ]
    }
   ],
   "source": [
    "#Assignment operator\n",
    "x = 10\n",
    "y = 20\n",
    "print(x,\" \",y)"
   ]
  },
  {
   "attachments": {},
   "cell_type": "markdown",
   "metadata": {},
   "source": [
    "Ans 7 -\n",
    "\n",
    "        First Block - if spam == 10:\n",
    "                        print('eggs')\n",
    "\n",
    "        Second Block - if spam > 5:\n",
    "                        print('bacon')\n",
    "\n",
    "        Third Block - else:\n",
    "                        print('ham')\n",
    "                        print('spam')\n",
    "                        print('spam')        "
   ]
  },
  {
   "cell_type": "code",
   "execution_count": null,
   "metadata": {},
   "outputs": [
    {
     "name": "stdout",
     "output_type": "stream",
     "text": [
      "Hello\n"
     ]
    }
   ],
   "source": [
    "# Ans 8 -\n",
    "\n",
    "spam = 1\n",
    "\n",
    "if spam == 1:\n",
    "    print('Hello')\n",
    "elif spam == 2:\n",
    "    print('Howdy')\n",
    "else:\n",
    "    print('Greetings')\n",
    "\n",
    "    "
   ]
  },
  {
   "attachments": {},
   "cell_type": "markdown",
   "metadata": {},
   "source": [
    "Ans 9 -\n",
    "\n",
    "        We will press the CTRL + C keys."
   ]
  },
  {
   "attachments": {},
   "cell_type": "markdown",
   "metadata": {},
   "source": [
    "Ans 10 -\n",
    "\n",
    "        Break statement terminates the entire loop and give the flow of the code to the statement next to the loop whereas continue just skip the current iteration and start the next iteration."
   ]
  },
  {
   "cell_type": "code",
   "execution_count": 2,
   "metadata": {},
   "outputs": [
    {
     "name": "stdout",
     "output_type": "stream",
     "text": [
      "0\n",
      "1\n",
      "2\n",
      "3\n",
      "4\n"
     ]
    }
   ],
   "source": [
    "#break statement\n",
    "for i in range(10):\n",
    "    if i == 5:\n",
    "        break\n",
    "    print(i)"
   ]
  },
  {
   "cell_type": "code",
   "execution_count": 3,
   "metadata": {},
   "outputs": [
    {
     "name": "stdout",
     "output_type": "stream",
     "text": [
      "0\n",
      "1\n",
      "2\n",
      "3\n",
      "4\n",
      "6\n",
      "7\n",
      "8\n",
      "9\n"
     ]
    }
   ],
   "source": [
    "#continue statement\n",
    "for i in range(10):\n",
    "    if i == 5:\n",
    "        continue\n",
    "    print(i)"
   ]
  },
  {
   "attachments": {},
   "cell_type": "markdown",
   "metadata": {},
   "source": [
    "As you can see in break statement the loop terimanate when i == 5 and the values are only got print upto 4 whereas in continue statement the number 5 got skipped and the loop continue after that."
   ]
  },
  {
   "attachments": {},
   "cell_type": "markdown",
   "metadata": {},
   "source": [
    "Ans 10 - \n",
    "\n",
    "        There is no difference between range(10), range(0,10) and range(0,10,1). All the statements will produce the same output. The only difference is the way of writing the function."
   ]
  },
  {
   "cell_type": "code",
   "execution_count": 4,
   "metadata": {},
   "outputs": [
    {
     "name": "stdout",
     "output_type": "stream",
     "text": [
      "0\n",
      "1\n",
      "2\n",
      "3\n",
      "4\n",
      "5\n",
      "6\n",
      "7\n",
      "8\n",
      "9\n"
     ]
    }
   ],
   "source": [
    "#range(10)\n",
    "for i in range(10):\n",
    "    print(i)"
   ]
  },
  {
   "cell_type": "code",
   "execution_count": 5,
   "metadata": {},
   "outputs": [
    {
     "name": "stdout",
     "output_type": "stream",
     "text": [
      "0\n",
      "1\n",
      "2\n",
      "3\n",
      "4\n",
      "5\n",
      "6\n",
      "7\n",
      "8\n",
      "9\n"
     ]
    }
   ],
   "source": [
    "#range(0,10)\n",
    "for i in range(0,10):\n",
    "    print(i)"
   ]
  },
  {
   "cell_type": "code",
   "execution_count": 6,
   "metadata": {},
   "outputs": [
    {
     "name": "stdout",
     "output_type": "stream",
     "text": [
      "0\n",
      "1\n",
      "2\n",
      "3\n",
      "4\n",
      "5\n",
      "6\n",
      "7\n",
      "8\n",
      "9\n"
     ]
    }
   ],
   "source": [
    "#range(0,10,1)\n",
    "for i in range(0,10,1):\n",
    "    print(i)"
   ]
  },
  {
   "cell_type": "code",
   "execution_count": 1,
   "metadata": {},
   "outputs": [
    {
     "name": "stdout",
     "output_type": "stream",
     "text": [
      "1\n",
      "2\n",
      "3\n",
      "4\n",
      "5\n",
      "6\n",
      "7\n",
      "8\n",
      "9\n",
      "10\n",
      "1\n",
      "2\n",
      "3\n",
      "4\n",
      "5\n",
      "6\n",
      "7\n",
      "8\n",
      "9\n",
      "10\n"
     ]
    }
   ],
   "source": [
    "# Ans 12 - \n",
    "for i in range(1,11):\n",
    "    print(i)\n",
    "\n",
    "j = 1\n",
    "while(j<11):\n",
    "    print(j)\n",
    "    j += 1"
   ]
  },
  {
   "attachments": {},
   "cell_type": "markdown",
   "metadata": {},
   "source": [
    "Ans 13 - \n",
    "\n",
    "        For that we just have to use the module name and then use the dot operator and then put the function name at last.\n",
    "        Example -> spam.bacon()"
   ]
  },
  {
   "cell_type": "code",
   "execution_count": 2,
   "metadata": {},
   "outputs": [
    {
     "name": "stdout",
     "output_type": "stream",
     "text": [
      "This is bacon\n"
     ]
    }
   ],
   "source": [
    "import spam\n",
    "\n",
    "spam.bacon()"
   ]
  }
 ],
 "metadata": {
  "kernelspec": {
   "display_name": "Python 3",
   "language": "python",
   "name": "python3"
  },
  "language_info": {
   "codemirror_mode": {
    "name": "ipython",
    "version": 3
   },
   "file_extension": ".py",
   "mimetype": "text/x-python",
   "name": "python",
   "nbconvert_exporter": "python",
   "pygments_lexer": "ipython3",
   "version": "3.11.1"
  },
  "orig_nbformat": 4
 },
 "nbformat": 4,
 "nbformat_minor": 2
}
