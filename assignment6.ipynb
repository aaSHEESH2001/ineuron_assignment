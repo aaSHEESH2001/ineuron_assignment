{
 "cells": [
  {
   "cell_type": "markdown",
   "metadata": {},
   "source": [
    "Ans 1 -\n",
    "\n",
    "        Keywords in Python are reserved words that have predefined meanings and functionalities within the language. These words are used to define the syntax and structure of the Python code and cannot be used as variable names, function names, or any other identifiers."
   ]
  },
  {
   "cell_type": "code",
   "execution_count": 37,
   "metadata": {},
   "outputs": [
    {
     "name": "stdout",
     "output_type": "stream",
     "text": [
      "['False', 'None', 'True', 'and', 'as', 'assert', 'async', 'await', 'break', 'class', 'continue', 'def', 'del', 'elif', 'else', 'except', 'finally', 'for', 'from', 'global', 'if', 'import', 'in', 'is', 'lambda', 'nonlocal', 'not', 'or', 'pass', 'raise', 'return', 'try', 'while', 'with', 'yield']\n"
     ]
    }
   ],
   "source": [
    "#Code to print all the keywords\n",
    "import keyword\n",
    "\n",
    "all_keywords = keyword.kwlist\n",
    "print(all_keywords)"
   ]
  },
  {
   "cell_type": "markdown",
   "metadata": {},
   "source": [
    "Ans 2 -\n",
    "\n",
    "        Rules to create variables in Python :-\n",
    "        1. Use Valid Characters(like A-Z,0-9 and underscore)\n",
    "        2. Case Sensitivity\n",
    "        3. No Spaces\n",
    "        4. Don't Start with a Digit\n",
    "        5. Avoid Using Reserved Keywords"
   ]
  },
  {
   "cell_type": "markdown",
   "metadata": {},
   "source": [
    "Ans 3 -\n",
    "\n",
    "        In Python, following certain standards and conventions for naming variables improves code readability and maintainability. \n",
    "\n",
    "        1. Use Descriptive Names\n",
    "        2. Use Lowercase with Underscores (Snake Case)\n",
    "        3. Avoid Single Letter Names\n",
    "        4. Use Plural for Collections"
   ]
  },
  {
   "cell_type": "markdown",
   "metadata": {},
   "source": [
    "Ans 4 -\n",
    "\n",
    "        If you use a keyword as a variable name in Python, you will get a syntax error."
   ]
  },
  {
   "cell_type": "code",
   "execution_count": 36,
   "metadata": {},
   "outputs": [
    {
     "ename": "SyntaxError",
     "evalue": "invalid syntax (319619121.py, line 2)",
     "output_type": "error",
     "traceback": [
      "\u001b[1;36m  Cell \u001b[1;32mIn[36], line 2\u001b[1;36m\u001b[0m\n\u001b[1;33m    class = 50\u001b[0m\n\u001b[1;37m          ^\u001b[0m\n\u001b[1;31mSyntaxError\u001b[0m\u001b[1;31m:\u001b[0m invalid syntax\n"
     ]
    }
   ],
   "source": [
    "#Example\n",
    "class = 50\n",
    "print(class)"
   ]
  },
  {
   "cell_type": "markdown",
   "metadata": {},
   "source": [
    "Ans 5 -\n",
    "\n",
    "        The def keyword in Python is used to define user-defined functions"
   ]
  },
  {
   "cell_type": "markdown",
   "metadata": {},
   "source": [
    "Ans 6 -\n",
    "\n",
    "        The special character '\\' in Python is called the backslash or escape character. It is used to escape certain characters that have special meanings in strings and to create special character sequences. When you use a backslash before a character, it changes the interpretation of that character and treats it differently.\n",
    "        \\': Single quote character (')\n",
    "        \\\": Double quote character (\")\n",
    "        \\\\: Backslash itself ()\n",
    "        \\n: Newline (line break)\n",
    "        \\t: Tab"
   ]
  },
  {
   "cell_type": "markdown",
   "metadata": {},
   "source": [
    "Ans 7 - \n",
    "\n",
    "        (i) Homogeneous list:\n",
    "A homogeneous list is a list that contains elements of the same data type. All elements in the list are of the same type."
   ]
  },
  {
   "cell_type": "code",
   "execution_count": 29,
   "metadata": {},
   "outputs": [
    {
     "name": "stdout",
     "output_type": "stream",
     "text": [
      "[1, 2, 3, 4, 5]\n"
     ]
    }
   ],
   "source": [
    "#Example of homogeneous list\n",
    "homogeneous_list_int = [1, 2, 3, 4, 5]\n",
    "print(homogeneous_list_int)"
   ]
  },
  {
   "cell_type": "markdown",
   "metadata": {},
   "source": [
    "    (ii)Heterogeneous set:\n",
    "A heterogeneous set is a set that contains elements of different data types. The elements can be of any type."
   ]
  },
  {
   "cell_type": "code",
   "execution_count": 30,
   "metadata": {},
   "outputs": [
    {
     "name": "stdout",
     "output_type": "stream",
     "text": [
      "{'apple', 1, (1, 2), 3.14}\n"
     ]
    }
   ],
   "source": [
    "#Example of heterogeneous set\n",
    "heterogeneous_set = {1, 'apple', 3.14, True, (1, 2)}\n",
    "print(heterogeneous_set)"
   ]
  },
  {
   "cell_type": "markdown",
   "metadata": {},
   "source": [
    "    (iii) Homogeneous tuple:\n",
    "A homogeneous tuple is a tuple that contains elements of the same data type. All elements in the tuple are of the same type."
   ]
  },
  {
   "cell_type": "code",
   "execution_count": 32,
   "metadata": {},
   "outputs": [
    {
     "name": "stdout",
     "output_type": "stream",
     "text": [
      "('apple', 'banana', 'orange')\n"
     ]
    }
   ],
   "source": [
    "#Example of homogeneous tuple\n",
    "homogeneous_tuple_str = ('apple', 'banana', 'orange')\n",
    "print(homogeneous_tuple_str)"
   ]
  },
  {
   "cell_type": "markdown",
   "metadata": {},
   "source": [
    "Ans 8 -\n",
    "\n",
    "        Mutable Data Types:\n",
    "Mutable data types are those whose values can be modified after they are created. When you modify a mutable object, you are changing its internal state, and the object's memory location remains the same.\n",
    "Lists, dictionaries, and sets are examples of mutable data types in Python."
   ]
  },
  {
   "cell_type": "code",
   "execution_count": 34,
   "metadata": {},
   "outputs": [
    {
     "name": "stdout",
     "output_type": "stream",
     "text": [
      "[1, 5, 3, 4]\n"
     ]
    }
   ],
   "source": [
    "#Example of mutable data type\n",
    "\n",
    "# Creating a list\n",
    "my_list = [1, 2, 3]\n",
    "\n",
    "# Modifying the list\n",
    "my_list.append(4)  # Adds 4 to the list\n",
    "\n",
    "#Changing the value at a certain position\n",
    "my_list[1] = 5\n",
    "\n",
    "print(my_list)"
   ]
  },
  {
   "cell_type": "markdown",
   "metadata": {},
   "source": [
    "    Immutable Data Types:\n",
    "Immutable data types are those whose values cannot be modified after they are created. When you attempt to modify an immutable object, a new object is created with the modified value, and the original object's memory location remains unchanged.\n",
    "Strings, tuples, and numeric data types (integers, floats, booleans) are examples of immutable data types in Python."
   ]
  },
  {
   "cell_type": "code",
   "execution_count": 35,
   "metadata": {},
   "outputs": [
    {
     "name": "stdout",
     "output_type": "stream",
     "text": [
      "Hello\n",
      "Hello, World!\n"
     ]
    },
    {
     "ename": "TypeError",
     "evalue": "'str' object does not support item assignment",
     "output_type": "error",
     "traceback": [
      "\u001b[1;31m---------------------------------------------------------------------------\u001b[0m",
      "\u001b[1;31mTypeError\u001b[0m                                 Traceback (most recent call last)",
      "Cell \u001b[1;32mIn[35], line 11\u001b[0m\n\u001b[0;32m      8\u001b[0m \u001b[39mprint\u001b[39m(new_string)  \u001b[39m# Output: \"Hello, World!\"\u001b[39;00m\n\u001b[0;32m     10\u001b[0m \u001b[39m#Changing value at a particular index\u001b[39;00m\n\u001b[1;32m---> 11\u001b[0m my_string[\u001b[39m1\u001b[39;49m] \u001b[39m=\u001b[39m \u001b[39m\"\u001b[39m\u001b[39mP\u001b[39m\u001b[39m\"\u001b[39m\n",
      "\u001b[1;31mTypeError\u001b[0m: 'str' object does not support item assignment"
     ]
    }
   ],
   "source": [
    "# Creating a string\n",
    "my_string = \"Hello\"\n",
    "\n",
    "# Modifying the string (creating a new object)\n",
    "new_string = my_string + \", World!\"\n",
    "\n",
    "print(my_string)  # Output: \"Hello\"\n",
    "print(new_string)  # Output: \"Hello, World!\"\n",
    "\n",
    "#Changing value at a particular index\n",
    "my_string[1] = \"P\""
   ]
  },
  {
   "cell_type": "markdown",
   "metadata": {},
   "source": [
    "Ans 9 -"
   ]
  },
  {
   "cell_type": "code",
   "execution_count": 21,
   "metadata": {},
   "outputs": [
    {
     "name": "stdout",
     "output_type": "stream",
     "text": [
      "    *\n",
      "   ***\n",
      "  *****\n",
      " *******\n",
      "*********\n"
     ]
    }
   ],
   "source": [
    "#Code\n",
    "for i in range(1,6):\n",
    "    for j in range(6-i-1):\n",
    "        print(\" \",end=\"\")\n",
    "    \n",
    "    for k in range(i):\n",
    "        print(\"*\",end=\"\")\n",
    "\n",
    "    for l in range(1,i):\n",
    "        print(\"*\",end=\"\") \n",
    "    print()"
   ]
  },
  {
   "cell_type": "markdown",
   "metadata": {},
   "source": [
    "Ans 10 - "
   ]
  },
  {
   "cell_type": "code",
   "execution_count": 28,
   "metadata": {},
   "outputs": [
    {
     "name": "stdout",
     "output_type": "stream",
     "text": [
      "|||||||||\n",
      " |||||||\n",
      "  |||||\n",
      "   |||\n",
      "    |\n"
     ]
    }
   ],
   "source": [
    "i = 0\n",
    "while(i<5):\n",
    "    j = 1\n",
    "    while(j<=i):\n",
    "        print(\" \",end=\"\")\n",
    "        j+=1\n",
    "    \n",
    "    i+=1\n",
    "\n",
    "    k = 0\n",
    "    while(k<=5-i):\n",
    "        print(\"|\",end=\"\")\n",
    "        k+=1\n",
    "\n",
    "    l = 1\n",
    "    while(l<=5-i):\n",
    "        print(\"|\",end=\"\")\n",
    "        l+=1\n",
    "    print()"
   ]
  }
 ],
 "metadata": {
  "kernelspec": {
   "display_name": "Python 3",
   "language": "python",
   "name": "python3"
  },
  "language_info": {
   "codemirror_mode": {
    "name": "ipython",
    "version": 3
   },
   "file_extension": ".py",
   "mimetype": "text/x-python",
   "name": "python",
   "nbconvert_exporter": "python",
   "pygments_lexer": "ipython3",
   "version": "3.11.1"
  },
  "orig_nbformat": 4
 },
 "nbformat": 4,
 "nbformat_minor": 2
}
