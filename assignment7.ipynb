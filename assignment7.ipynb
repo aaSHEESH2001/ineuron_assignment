{
 "cells": [
  {
   "cell_type": "markdown",
   "metadata": {},
   "source": [
    "Ans 1 -"
   ]
  },
  {
   "cell_type": "code",
   "execution_count": 2,
   "metadata": {},
   "outputs": [
    {
     "name": "stdout",
     "output_type": "stream",
     "text": [
      "Addition : 10+5 = 15\n",
      "Subtraction : 10-5 = 5\n",
      "Multiplication : 10*5 = 50\n",
      "Division : 10/5 = 2.0\n"
     ]
    }
   ],
   "source": [
    "num1 = int(input(\"Enter first number : \")) #first variable\n",
    "num2 = int(input(\"Enter second number : \")) #second variable\n",
    "\n",
    "sum = num1 + num2\n",
    "sub = num1 - num2\n",
    "mul = num1 * num2\n",
    "div = num1 / num2\n",
    "\n",
    "print(f\"Addition : {num1}+{num2} = {sum}\")\n",
    "print(f\"Subtraction : {num1}-{num2} = {sub}\")\n",
    "print(f\"Multiplication : {num1}*{num2} = {mul}\")\n",
    "print(f\"Division : {num1}/{num2} = {div}\")"
   ]
  },
  {
   "cell_type": "markdown",
   "metadata": {},
   "source": [
    "Ans 2 - \n",
    "\n",
    "    (i) '/' this is a normal division operator and when used between two integers provide a float output whereas '//' is an integer division operator and when use between two integers gives an integer output i.e. it omits the decimal or fraction part"
   ]
  },
  {
   "cell_type": "markdown",
   "metadata": {},
   "source": [
    "    (ii) The '**' operator is used for exponentiation. It raises the left operand to the power of the right operand and The '^' operator is used for bitwise XOR (exclusive OR) operation. It performs a bitwise XOR between the bits of the two operands."
   ]
  },
  {
   "cell_type": "markdown",
   "metadata": {},
   "source": [
    "Ans 3 - \n",
    "\n",
    "    1. and: The and operator returns True if both operands are True, otherwise, it returns False.\n",
    "\n",
    "    2. or: The or operator returns True if at least one of the operands is True, otherwise, it returns False.\n",
    "\n",
    "    3. not: The not operator returns the opposite boolean value of the operand. If the operand is True, not returns False, and if the operand is False, not returns True."
   ]
  },
  {
   "cell_type": "markdown",
   "metadata": {},
   "source": [
    "Ans 4 -\n",
    "\n",
    "    1. Right Shift Operator (>>):\n",
    "\n",
    "    The right shift operator >> shifts the bits of the integer to the right by a specified number of positions. This is equivalent to dividing the integer by 2 raised to the power of the number of positions shifted."
   ]
  },
  {
   "cell_type": "code",
   "execution_count": 3,
   "metadata": {},
   "outputs": [
    {
     "name": "stdout",
     "output_type": "stream",
     "text": [
      "4\n"
     ]
    }
   ],
   "source": [
    "num = 16  # Binary representation: 10000\n",
    "\n",
    "# Right shift by 2 positions\n",
    "result = num >> 2  # Binary representation: 00100 (4 in decimal)\n",
    "\n",
    "print(result)"
   ]
  },
  {
   "cell_type": "markdown",
   "metadata": {},
   "source": [
    "    2. Left Shift Operator (<<):\n",
    "\n",
    "    The left shift operator << shifts the bits of the integer to the left by a specified number of positions. This is equivalent to multiplying the integer by 2 raised to the power of the number of positions shifted."
   ]
  },
  {
   "cell_type": "code",
   "execution_count": 4,
   "metadata": {},
   "outputs": [
    {
     "name": "stdout",
     "output_type": "stream",
     "text": [
      "16\n"
     ]
    }
   ],
   "source": [
    "num = 4  # Binary representation: 00100\n",
    "\n",
    "# Left shift by 2 positions\n",
    "result = num << 2  # Binary representation: 10000 (16 in decimal)\n",
    "\n",
    "print(result) "
   ]
  },
  {
   "cell_type": "markdown",
   "metadata": {},
   "source": [
    "Ans 5 -"
   ]
  },
  {
   "cell_type": "code",
   "execution_count": 6,
   "metadata": {},
   "outputs": [
    {
     "name": "stdout",
     "output_type": "stream",
     "text": [
      "15\n",
      "[1, 2, 3, 4, 5, 6, 7, 8, 9, 10, 11, 12, 13, 14, 15]\n"
     ]
    }
   ],
   "source": [
    "l1 = [i for i in range(1,16)] #creating a list of length 15\n",
    "print(len(l1))  #printing length\n",
    "print(l1)   #print list"
   ]
  },
  {
   "cell_type": "code",
   "execution_count": 7,
   "metadata": {},
   "outputs": [
    {
     "name": "stdout",
     "output_type": "stream",
     "text": [
      "True\n"
     ]
    }
   ],
   "source": [
    "#code to check if 10 is present or not\n",
    "print(10 in l1)"
   ]
  }
 ],
 "metadata": {
  "kernelspec": {
   "display_name": "Python 3",
   "language": "python",
   "name": "python3"
  },
  "language_info": {
   "codemirror_mode": {
    "name": "ipython",
    "version": 3
   },
   "file_extension": ".py",
   "mimetype": "text/x-python",
   "name": "python",
   "nbconvert_exporter": "python",
   "pygments_lexer": "ipython3",
   "version": "3.11.1"
  },
  "orig_nbformat": 4
 },
 "nbformat": 4,
 "nbformat_minor": 2
}
