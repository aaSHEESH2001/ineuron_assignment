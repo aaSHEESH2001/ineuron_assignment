{
 "cells": [
  {
   "cell_type": "markdown",
   "metadata": {},
   "source": [
    "Ans 1-\n",
    "\n",
    "        {} curly braces are used to create an empyt dictionary."
   ]
  },
  {
   "cell_type": "code",
   "execution_count": 3,
   "metadata": {},
   "outputs": [
    {
     "name": "stdout",
     "output_type": "stream",
     "text": [
      "<class 'dict'>\n"
     ]
    }
   ],
   "source": [
    "#Code\n",
    "d1 = {}\n",
    "print(type(d1))"
   ]
  },
  {
   "cell_type": "markdown",
   "metadata": {},
   "source": [
    "Ans 2 -\n",
    "\n",
    "        The value of a dictionary with the key 'foo' and the value 42 is 42. In a Python dictionary, each key-value pair is separated by a colon (:), and the key is used to access the corresponding value."
   ]
  },
  {
   "cell_type": "markdown",
   "metadata": {},
   "source": [
    "Ans 3 -\n",
    "\n",
    "        The main distinction between a dictionary and a list is that a list is an ordered collection of elements accessed by indices, while a dictionary is an unordered collection of key-value pairs accessed by unique keys."
   ]
  },
  {
   "cell_type": "markdown",
   "metadata": {},
   "source": [
    "Ans 4 -\n",
    "\n",
    "        If you try to access spam['foo'] and the key 'foo' does not exist in the spam dictionary, a KeyError will be raised."
   ]
  },
  {
   "cell_type": "markdown",
   "metadata": {},
   "source": [
    "Ans 5 - \n",
    "\n",
    "        Both expressions check for the presence of the key 'cat' in the dictionary spam. However, the second expression, 'cat' in spam.keys(), explicitly uses the keys() method to access the view of keys, which may be less efficient than the first expression, 'cat' in spam, which directly checks for the presence of the key in the dictionary."
   ]
  },
  {
   "cell_type": "markdown",
   "metadata": {},
   "source": [
    "Ans 6 -\n",
    "\n",
    "         The first expression checks whether 'cat' is a key in the dictionary, while the second expression checks whether 'cat' is one of the values in the dictionary. "
   ]
  },
  {
   "cell_type": "markdown",
   "metadata": {},
   "source": [
    "Ans 7 -\n",
    "\n",
    "        spam.setdefault('color', 'black')\n",
    "\n",
    "        If the key 'color' is not present in the spam dictionary, the setdefault() method will add the key 'color' with the value 'black'.\n",
    "\n",
    "        If the key 'color' already exists in the spam dictionary, the setdefault() method will return the current value associated with the key (without changing it)."
   ]
  },
  {
   "cell_type": "markdown",
   "metadata": {},
   "source": [
    "Ans 8 -\n",
    "\n",
    "     To \"pretty print\" dictionary values in Python, you can use the pprint module and the pprint() function. The pprint module stands for \"pretty print,\" and it provides a way to display data structures like dictionaries and lists in a more readable and formatted manner.   "
   ]
  },
  {
   "cell_type": "code",
   "execution_count": 1,
   "metadata": {},
   "outputs": [
    {
     "name": "stdout",
     "output_type": "stream",
     "text": [
      "{'age': 30, 'city': 'New York', 'name': 'John'}\n"
     ]
    }
   ],
   "source": [
    "import pprint\n",
    "\n",
    "my_dict = {'name': 'John', 'age': 30, 'city': 'New York'}\n",
    "\n",
    "# Using pprint to pretty print the dictionary\n",
    "pprint.pprint(my_dict)"
   ]
  }
 ],
 "metadata": {
  "kernelspec": {
   "display_name": "Python 3",
   "language": "python",
   "name": "python3"
  },
  "language_info": {
   "codemirror_mode": {
    "name": "ipython",
    "version": 3
   },
   "file_extension": ".py",
   "mimetype": "text/x-python",
   "name": "python",
   "nbconvert_exporter": "python",
   "pygments_lexer": "ipython3",
   "version": "3.11.1"
  },
  "orig_nbformat": 4
 },
 "nbformat": 4,
 "nbformat_minor": 2
}
