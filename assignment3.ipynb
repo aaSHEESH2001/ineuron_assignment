{
 "cells": [
  {
   "attachments": {},
   "cell_type": "markdown",
   "metadata": {},
   "source": [
    "Ans 1 -\n",
    "\n",
    "        Functions are important in the program as they improve the code readability. Functions are important as we can use them in different program or module as well i.e. it provides code reusability. Functions make the code maintain by providing modular design."
   ]
  },
  {
   "attachments": {},
   "cell_type": "markdown",
   "metadata": {},
   "source": [
    "Ans 2 -\n",
    "\n",
    "        The code in the funtion runs when the function is called."
   ]
  },
  {
   "attachments": {},
   "cell_type": "markdown",
   "metadata": {},
   "source": [
    "Ans 3 - \n",
    "\n",
    "        Functions are defined using the def keyword.\n",
    "        \n",
    "        Example :-\n",
    "        def function_name(parameters):\n",
    "            function body\n",
    "\n",
    "        The above statement will create a function"
   ]
  },
  {
   "attachments": {},
   "cell_type": "markdown",
   "metadata": {},
   "source": [
    "Ans 4 -\n",
    "\n",
    "        A function or function definition is just a block of code that will perform a certain task according to the code it    contains. And the function perform that task when it is called.\n",
    "\n",
    "        For example :- \n",
    "\n",
    "        "
   ]
  },
  {
   "cell_type": "code",
   "execution_count": 1,
   "metadata": {},
   "outputs": [
    {
     "name": "stdout",
     "output_type": "stream",
     "text": [
      "25\n"
     ]
    }
   ],
   "source": [
    "def square(x):\n",
    "    print(x*x)\n",
    "\n",
    "square(5)"
   ]
  },
  {
   "attachments": {},
   "cell_type": "markdown",
   "metadata": {},
   "source": [
    "In the first line we defined a function named square which will print the square of a number passed to it.\n",
    "And In the fouth line we called the function to perform that specific task."
   ]
  },
  {
   "attachments": {},
   "cell_type": "markdown",
   "metadata": {},
   "source": [
    "Ans 5 -\n",
    "\n",
    "        There is only one global scope in a Python program. And for local scope there can be many local scopes as different functions have their own different scope and you cannot access variable created in one function into other function.        "
   ]
  },
  {
   "attachments": {},
   "cell_type": "markdown",
   "metadata": {},
   "source": [
    "Ans 6 -\n",
    "\n",
    "        As the function call returns the scope associated to that function ends and the variable initialized in that function got deleted or deallocated which free up the memory."
   ]
  },
  {
   "attachments": {},
   "cell_type": "markdown",
   "metadata": {},
   "source": [
    "Ans 7 -\n",
    "\n",
    "         When a function is called, it may perform some operations, manipulate data, and produce a result. The return value allows the function to communicate that result back to the caller.\n",
    "        Yes we can use a return value in an expression.        "
   ]
  },
  {
   "cell_type": "code",
   "execution_count": 8,
   "metadata": {},
   "outputs": [
    {
     "name": "stdout",
     "output_type": "stream",
     "text": [
      "30\n"
     ]
    }
   ],
   "source": [
    "#Example of return value in a expression\n",
    "\n",
    "def sum(a,b):\n",
    "    return a + b\n",
    "\n",
    "print(sum(5,10)*2)"
   ]
  },
  {
   "attachments": {},
   "cell_type": "markdown",
   "metadata": {},
   "source": [
    "Ans 8 -\n",
    "\n",
    "        If a function does not have a return statement, then it returns None value which means nothing."
   ]
  },
  {
   "cell_type": "code",
   "execution_count": 2,
   "metadata": {},
   "outputs": [
    {
     "name": "stdout",
     "output_type": "stream",
     "text": [
      "None\n"
     ]
    }
   ],
   "source": [
    "#Example:\n",
    "\n",
    "def greetings():\n",
    "    pass\n",
    "\n",
    "print(greetings())"
   ]
  },
  {
   "attachments": {},
   "cell_type": "markdown",
   "metadata": {},
   "source": [
    "Ans 9 -\n",
    "\n",
    "        To make a function variable refer to the global variable we use global keyword."
   ]
  },
  {
   "cell_type": "code",
   "execution_count": 4,
   "metadata": {},
   "outputs": [
    {
     "name": "stdout",
     "output_type": "stream",
     "text": [
      "Local variable inside function : 20\n",
      "Global varibal ouside the function :  20\n"
     ]
    }
   ],
   "source": [
    "#Example\n",
    "\n",
    "number = 10\n",
    "\n",
    "def square():\n",
    "    global number\n",
    "    number = number + 10\n",
    "    print(\"Local variable inside function :\",number)\n",
    "\n",
    "square()\n",
    "print(\"Global varibal ouside the function : \",number)"
   ]
  },
  {
   "attachments": {},
   "cell_type": "markdown",
   "metadata": {},
   "source": [
    "As you can see in the above code the value of global varibale number got updated when we change the value of local variable number inside the square function."
   ]
  },
  {
   "attachments": {},
   "cell_type": "markdown",
   "metadata": {},
   "source": [
    "Ans 10 -\n",
    "\n",
    "        In Python, the data type of None is a special type called NoneType. None represents the absence of a value or the absence of an object. It is used to indicate a null value."
   ]
  },
  {
   "cell_type": "code",
   "execution_count": 5,
   "metadata": {},
   "outputs": [
    {
     "name": "stdout",
     "output_type": "stream",
     "text": [
      "None\n",
      "<class 'NoneType'>\n"
     ]
    }
   ],
   "source": [
    "#Example\n",
    "\n",
    "result = None\n",
    "print(result)\n",
    "print(type(result))"
   ]
  },
  {
   "attachments": {},
   "cell_type": "markdown",
   "metadata": {},
   "source": [
    "Ans 11 -\n",
    "\n",
    "        The import keyword is used to import external modules and packages into your code so that you can use their functions, classes and variables. As there is no standard module or package name areallyourpetsnamederic in Python and we have not explicitly created any module with such name so the code will throw a ModuleNotFound Error."
   ]
  },
  {
   "cell_type": "code",
   "execution_count": 6,
   "metadata": {},
   "outputs": [
    {
     "ename": "ModuleNotFoundError",
     "evalue": "No module named 'areallyourpetsnamederic'",
     "output_type": "error",
     "traceback": [
      "\u001b[1;31m---------------------------------------------------------------------------\u001b[0m",
      "\u001b[1;31mModuleNotFoundError\u001b[0m                       Traceback (most recent call last)",
      "Cell \u001b[1;32mIn[6], line 1\u001b[0m\n\u001b[1;32m----> 1\u001b[0m \u001b[39mimport\u001b[39;00m \u001b[39mareallyourpetsnamederic\u001b[39;00m\n",
      "\u001b[1;31mModuleNotFoundError\u001b[0m: No module named 'areallyourpetsnamederic'"
     ]
    }
   ],
   "source": [
    "import areallyourpetsnamederic"
   ]
  },
  {
   "attachments": {},
   "cell_type": "markdown",
   "metadata": {},
   "source": [
    "Ans 12 -\n",
    "\n",
    "        After importing the spam module, if it contains a feature called bacon(), you can call it using the dot notation with the module name and function name separated by a dot (.)."
   ]
  },
  {
   "attachments": {},
   "cell_type": "markdown",
   "metadata": {},
   "source": [
    "Ans 13 -\n",
    "\n",
    "        To prevent a program from crashing when encountering an error, you can use error handling techniques. In Python, this is done using try and except blocks."
   ]
  },
  {
   "attachments": {},
   "cell_type": "markdown",
   "metadata": {},
   "source": [
    "Ans 14 -\n",
    "\n",
    "        Try : In Python, the try block is used to enclose a section of code that might raise exceptions. It allows you to handle exceptions and prevent the program from crashing.\n",
    "\n",
    "        Except : Except clause is used to specify the type of exception you want to handle and define the corresponding exception handling code."
   ]
  },
  {
   "cell_type": "code",
   "execution_count": 9,
   "metadata": {},
   "outputs": [
    {
     "name": "stdout",
     "output_type": "stream",
     "text": [
      "There is no module with such name\n"
     ]
    }
   ],
   "source": [
    "#Example\n",
    "\n",
    "try:\n",
    "    import areallyourpetsnamederic\n",
    "except:\n",
    "    print(\"There is no module with such name\")"
   ]
  }
 ],
 "metadata": {
  "kernelspec": {
   "display_name": "Python 3",
   "language": "python",
   "name": "python3"
  },
  "language_info": {
   "codemirror_mode": {
    "name": "ipython",
    "version": 3
   },
   "file_extension": ".py",
   "mimetype": "text/x-python",
   "name": "python",
   "nbconvert_exporter": "python",
   "pygments_lexer": "ipython3",
   "version": "3.11.1"
  },
  "orig_nbformat": 4
 },
 "nbformat": 4,
 "nbformat_minor": 2
}
