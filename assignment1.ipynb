{
 "cells": [
  {
   "attachments": {},
   "cell_type": "markdown",
   "metadata": {},
   "source": [
    "Ans 1 -    \n",
    "\n",
    "        Values -> 'Hello', -87.8, 6\n",
    "\n",
    "        Expressions -> *, -, /, + "
   ]
  },
  {
   "attachments": {},
   "cell_type": "markdown",
   "metadata": {},
   "source": [
    "Ans 2 - \n",
    "\n",
    "        String -> A string is a sequece of characters such as letters, digits and symbols. Strings are enclosed in quotation marks. String usually refers to textual data. Strings are immutable. For example -> 'Hello', '6', \"*\", they all are strings.\n",
    "\n",
    "        Variable -> A variable is a name given to a memory location of the memory, that can store any type of data like numbers, symbols and strings as well. Variable is not a data type, it is just a name to a memory location. "
   ]
  },
  {
   "attachments": {},
   "cell_type": "markdown",
   "metadata": {},
   "source": [
    "Ans 3 -\n",
    "        \n",
    "        Integer: The integer data type represents whole numbers without any fractional or decimal parts. Integers can be positive, negative, or zero. They are used to perform mathematical operations. Examples of integers include -3, 0, and 42.\n",
    "\n",
    "        Float (Floating-Point): The float data type represents real numbers that can have both integer and fractional parts. Floats are used to store values with decimal places. They are useful for representing measurements and scientific calculations. Examples of float values include -3.14, 2.71828, and 0.5.\n",
    "\n",
    "        String -> A string is a sequece of characters such as letters, digits and symbols. Strings are enclosed in quotation marks. String usually refers to textual data. Strings are immutable. For example -> 'Hello', '6', \"*\", they all are strings.\n"
   ]
  },
  {
   "attachments": {},
   "cell_type": "markdown",
   "metadata": {},
   "source": [
    "Ans 4 -\n",
    "\n",
    "        An expression is made up of one or more operands and operators. The operands can be literals (such as numbers or strings) or variables, while the operators are symbols that perform specific operations on the operands.\n",
    "\n",
    "        Expressions are used in programming to perform calculations, make decisions, compare values, manipulate data, and more. "
   ]
  },
  {
   "attachments": {},
   "cell_type": "markdown",
   "metadata": {},
   "source": [
    "Ans 5 -\n",
    "\n",
    "        The difference between an expression and a statement is that an expression evaluates to a value, whereas a statement performs an action or controls the flow of a program."
   ]
  },
  {
   "attachments": {},
   "cell_type": "markdown",
   "metadata": {},
   "source": [
    "Ans 6 - \n",
    "\n",
    "        The value of bacon still remains 22, because in the second statement we are just adding 1 to the value of bacon but are not updating it. "
   ]
  },
  {
   "attachments": {},
   "cell_type": "markdown",
   "metadata": {},
   "source": [
    "Ans 7 -\n",
    "\n",
    "        Both the statements produce the same result 'spamspamspam', but in the first statement we concatenated the two strings and in the second statement we replicate the same strings three times."
   ]
  },
  {
   "attachments": {},
   "cell_type": "markdown",
   "metadata": {},
   "source": [
    "Ans 8 -\n",
    "\n",
    "        eggs is valid varibale and 100 is not because eggs is starting with a alphabet whereas 100 starting with a number and according to the variable naming rule, variable name cannot start with a number."
   ]
  },
  {
   "attachments": {},
   "cell_type": "markdown",
   "metadata": {},
   "source": [
    "Ans 9 -\n",
    "\n",
    "        int() - This function is used to convert a floating point number or a string containing numbers to a integer value\n",
    "\n",
    "        float() - This function is used to convert a integer number or a string containing numbers to a float value or decimal value.\n",
    "\n",
    "        str() - This function converts the value to a string of characters so that we can perform string operation on the value."
   ]
  },
  {
   "attachments": {},
   "cell_type": "markdown",
   "metadata": {},
   "source": [
    "Ans 10 - \n",
    "\n",
    "        'I have eaten' + 99 + 'burritos.'\n",
    "        \n",
    "        The above expression will cause an error because 99 is a number and the rest is a string and we cannot concatenate an integer value to a string\n",
    "\n",
    "        It can be corrected by using following expression -\n",
    "\n",
    "        1 -> 'I have eaten' + str(99) + 'burritos.'\n",
    "        2 -> 'I have eaten' + '99' + 'burritos.'"
   ]
  }
 ],
 "metadata": {
  "kernelspec": {
   "display_name": "Python 3",
   "language": "python",
   "name": "python3"
  },
  "language_info": {
   "codemirror_mode": {
    "name": "ipython",
    "version": 3
   },
   "file_extension": ".py",
   "mimetype": "text/x-python",
   "name": "python",
   "nbconvert_exporter": "python",
   "pygments_lexer": "ipython3",
   "version": "3.11.1"
  },
  "orig_nbformat": 4
 },
 "nbformat": 4,
 "nbformat_minor": 2
}
